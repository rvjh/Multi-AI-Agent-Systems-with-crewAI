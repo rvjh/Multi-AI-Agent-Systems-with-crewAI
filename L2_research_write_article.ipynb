{
 "cells": [
  {
   "cell_type": "markdown",
   "metadata": {},
   "source": [
    "You can download the `requirements.txt` for this course from the workspace of this lab. `File --> Open...`"
   ]
  },
  {
   "cell_type": "markdown",
   "metadata": {},
   "source": [
    "# L2: Create Agents to Research and Write an Article\n",
    "\n",
    "In this lesson, you will be introduced to the foundational concepts of multi-agent systems and get an overview of the crewAI framework."
   ]
  },
  {
   "cell_type": "markdown",
   "metadata": {},
   "source": [
    "The libraries are already installed in the classroom. If you're running this notebook on your own machine, you can install the following:\n",
    "```Python\n",
    "!pip install crewai==0.28.8 crewai_tools==0.1.6 langchain_community==0.0.29\n",
    "```"
   ]
  },
  {
   "cell_type": "code",
   "execution_count": 1,
   "metadata": {
    "height": 64
   },
   "outputs": [],
   "source": [
    "# Warning control\n",
    "import warnings\n",
    "warnings.filterwarnings('ignore')"
   ]
  },
  {
   "cell_type": "markdown",
   "metadata": {},
   "source": [
    "- Import from the crewAI libray."
   ]
  },
  {
   "cell_type": "code",
   "execution_count": 2,
   "metadata": {
    "height": 30
   },
   "outputs": [],
   "source": [
    "from crewai import Agent, Task, Crew"
   ]
  },
  {
   "cell_type": "markdown",
   "metadata": {},
   "source": [
    "- As a LLM for your agents, you'll be using OpenAI's `gpt-3.5-turbo`.\n",
    "\n",
    "**Optional Note:** crewAI also allow other popular models to be used as a LLM for your Agents. You can see some of the examples at the [bottom of the notebook](#1)."
   ]
  },
  {
   "cell_type": "code",
   "execution_count": 4,
   "metadata": {
    "height": 116
   },
   "outputs": [],
   "source": [
    "import os\n",
    "from utils import get_openai_api_key\n",
    "\n",
    "openai_api_key = get_openai_api_key()\n",
    "os.environ[\"OPENAI_MODEL_NAME\"] = 'gpt-3.5-turbo'"
   ]
  },
  {
   "cell_type": "markdown",
   "metadata": {},
   "source": [
    "## Creating Agents\n",
    "\n",
    "- Define your Agents, and provide them a `role`, `goal` and `backstory`.\n",
    "- It has been seen that LLMs perform better when they are role playing."
   ]
  },
  {
   "cell_type": "markdown",
   "metadata": {},
   "source": [
    "### Agent: Planner\n",
    "\n",
    "**Note**: The benefit of using _multiple strings_ :\n",
    "```Python\n",
    "varname = \"line 1 of text\"\n",
    "          \"line 2 of text\"\n",
    "```\n",
    "\n",
    "versus the _triple quote docstring_:\n",
    "```Python\n",
    "varname = \"\"\"line 1 of text\n",
    "             line 2 of text\n",
    "          \"\"\"\n",
    "```\n",
    "is that it can avoid adding those whitespaces and newline characters, making it better formatted to be passed to the LLM."
   ]
  },
  {
   "cell_type": "code",
   "execution_count": 5,
   "metadata": {
    "height": 252
   },
   "outputs": [],
   "source": [
    "planner = Agent(\n",
    "    role=\"Content Planner\",\n",
    "    goal=\"Plan engaging and factually accurate content on {topic}\",\n",
    "    backstory=\"You're working on planning a blog article \"\n",
    "              \"about the topic: {topic}.\"\n",
    "              \"You collect information that helps the \"\n",
    "              \"audience learn something \"\n",
    "              \"and make informed decisions. \"\n",
    "              \"Your work is the basis for \"\n",
    "              \"the Content Writer to write an article on this topic.\",\n",
    "    allow_delegation=False,\n",
    "\tverbose=True\n",
    ")"
   ]
  },
  {
   "cell_type": "markdown",
   "metadata": {},
   "source": [
    "### Agent: Writer"
   ]
  },
  {
   "cell_type": "code",
   "execution_count": 7,
   "metadata": {
    "height": 388
   },
   "outputs": [],
   "source": [
    "writer = Agent(\n",
    "    role=\"Content Writer\",\n",
    "    goal=\"Write insightful and factually accurate \"\n",
    "         \"opinion piece about the topic: {topic}\",\n",
    "    backstory=\"You're working on a writing \"\n",
    "              \"a new opinion piece about the topic: {topic}. \"\n",
    "              \"You base your writing on the work of \"\n",
    "              \"the Content Planner, who provides an outline \"\n",
    "              \"and relevant context about the topic. \"\n",
    "              \"You follow the main objectives and \"\n",
    "              \"direction of the outline, \"\n",
    "              \"as provide by the Content Planner. \"\n",
    "              \"You also provide objective and impartial insights \"\n",
    "              \"and back them up with information \"\n",
    "              \"provide by the Content Planner. \"\n",
    "              \"You acknowledge in your opinion piece \"\n",
    "              \"when your statements are opinions \"\n",
    "              \"as opposed to objective statements.\",\n",
    "    allow_delegation=False,\n",
    "    verbose=True\n",
    ")"
   ]
  },
  {
   "cell_type": "markdown",
   "metadata": {},
   "source": [
    "### Agent: Editor"
   ]
  },
  {
   "cell_type": "code",
   "execution_count": 8,
   "metadata": {
    "height": 286
   },
   "outputs": [],
   "source": [
    "editor = Agent(\n",
    "    role=\"Editor\",\n",
    "    goal=\"Edit a given blog post to align with \"\n",
    "         \"the writing style of the organization. \",\n",
    "    backstory=\"You are an editor who receives a blog post \"\n",
    "              \"from the Content Writer. \"\n",
    "              \"Your goal is to review the blog post \"\n",
    "              \"to ensure that it follows journalistic best practices,\"\n",
    "              \"provides balanced viewpoints \"\n",
    "              \"when providing opinions or assertions, \"\n",
    "              \"and also avoids major controversial topics \"\n",
    "              \"or opinions when possible.\",\n",
    "    allow_delegation=False,\n",
    "    verbose=True\n",
    ")"
   ]
  },
  {
   "cell_type": "markdown",
   "metadata": {},
   "source": [
    "## Creating Tasks\n",
    "\n",
    "- Define your Tasks, and provide them a `description`, `expected_output` and `agent`."
   ]
  },
  {
   "cell_type": "markdown",
   "metadata": {},
   "source": [
    "### Task: Plan"
   ]
  },
  {
   "cell_type": "code",
   "execution_count": 10,
   "metadata": {
    "height": 286
   },
   "outputs": [],
   "source": [
    "plan = Task(\n",
    "    description=(\n",
    "        \"1. Prioritize the latest trends, key players, \"\n",
    "            \"and noteworthy news on {topic}.\\n\"\n",
    "        \"2. Identify the target audience, considering \"\n",
    "            \"their interests and pain points.\\n\"\n",
    "        \"3. Develop a detailed content outline including \"\n",
    "            \"an introduction, key points, and a call to action.\\n\"\n",
    "        \"4. Include SEO keywords and relevant data or sources.\"\n",
    "    ),\n",
    "    expected_output=\"A comprehensive content plan document \"\n",
    "        \"with an outline, audience analysis, \"\n",
    "        \"SEO keywords, and resources.\",\n",
    "    agent=planner,\n",
    ")"
   ]
  },
  {
   "cell_type": "markdown",
   "metadata": {},
   "source": [
    "### Task: Write"
   ]
  },
  {
   "cell_type": "code",
   "execution_count": 11,
   "metadata": {
    "height": 337
   },
   "outputs": [],
   "source": [
    "write = Task(\n",
    "    description=(\n",
    "        \"1. Use the content plan to craft a compelling \"\n",
    "            \"blog post on {topic}.\\n\"\n",
    "        \"2. Incorporate SEO keywords naturally.\\n\"\n",
    "\t\t\"3. Sections/Subtitles are properly named \"\n",
    "            \"in an engaging manner.\\n\"\n",
    "        \"4. Ensure the post is structured with an \"\n",
    "            \"engaging introduction, insightful body, \"\n",
    "            \"and a summarizing conclusion.\\n\"\n",
    "        \"5. Proofread for grammatical errors and \"\n",
    "            \"alignment with the brand's voice.\\n\"\n",
    "    ),\n",
    "    expected_output=\"A well-written blog post \"\n",
    "        \"in markdown format, ready for publication, \"\n",
    "        \"each section should have 2 or 3 paragraphs.\",\n",
    "    agent=writer,\n",
    ")"
   ]
  },
  {
   "cell_type": "markdown",
   "metadata": {},
   "source": [
    "### Task: Edit"
   ]
  },
  {
   "cell_type": "code",
   "execution_count": 12,
   "metadata": {
    "height": 184
   },
   "outputs": [],
   "source": [
    "edit = Task(\n",
    "    description=(\"Proofread the given blog post for \"\n",
    "                 \"grammatical errors and \"\n",
    "                 \"alignment with the brand's voice.\"),\n",
    "    expected_output=\"A well-written blog post in markdown format, \"\n",
    "                    \"ready for publication, \"\n",
    "                    \"each section should have 2 or 3 paragraphs.\",\n",
    "    agent=editor\n",
    ")"
   ]
  },
  {
   "cell_type": "markdown",
   "metadata": {},
   "source": [
    "## Creating the Crew\n",
    "\n",
    "- Create your crew of Agents\n",
    "- Pass the tasks to be performed by those agents.\n",
    "    - **Note**: *For this simple example*, the tasks will be performed sequentially (i.e they are dependent on each other), so the _order_ of the task in the list _matters_.\n",
    "- `verbose=2` allows you to see all the logs of the execution. "
   ]
  },
  {
   "cell_type": "code",
   "execution_count": 13,
   "metadata": {
    "height": 98
   },
   "outputs": [],
   "source": [
    "crew = Crew(\n",
    "    agents=[planner, writer, editor],\n",
    "    tasks=[plan, write, edit],\n",
    "    verbose=2\n",
    ")"
   ]
  },
  {
   "cell_type": "markdown",
   "metadata": {},
   "source": [
    "## Running the Crew"
   ]
  },
  {
   "cell_type": "markdown",
   "metadata": {},
   "source": [
    "**Note**: LLMs can provide different outputs for they same input, so what you get might be different than what you see in the video."
   ]
  },
  {
   "cell_type": "code",
   "execution_count": 14,
   "metadata": {
    "height": 48
   },
   "outputs": [
    {
     "name": "stdout",
     "output_type": "stream",
     "text": [
      "\u001b[1m\u001b[95m [DEBUG]: == Working Agent: Content Planner\u001b[00m\n",
      "\u001b[1m\u001b[95m [INFO]: == Starting Task: 1. Prioritize the latest trends, key players, and noteworthy news on Artificial Intelligence.\n",
      "2. Identify the target audience, considering their interests and pain points.\n",
      "3. Develop a detailed content outline including an introduction, key points, and a call to action.\n",
      "4. Include SEO keywords and relevant data or sources.\u001b[00m\n",
      "\n",
      "\n",
      "\u001b[1m> Entering new CrewAgentExecutor chain...\u001b[0m\n",
      "\u001b[32;1m\u001b[1;3mI now can give a great answer\n",
      "\n",
      "Final Answer:\n",
      "Title: The Future of Artificial Intelligence: Trends, Players, and News\n",
      "\n",
      "Introduction:\n",
      "- Brief overview of Artificial Intelligence (AI) and its significance in today's tech-driven world\n",
      "- Mention of recent advancements in AI technology and its impact on various industries\n",
      "\n",
      "Key Points:\n",
      "1. Latest Trends in Artificial Intelligence:\n",
      "- Advances in machine learning algorithms\n",
      "- Expansion of AI applications in healthcare, finance, and transportation\n",
      "- Growth of AI-powered virtual assistants and chatbots\n",
      "- Rise of autonomous vehicles and drones\n",
      "\n",
      "2. Key Players in the AI Industry:\n",
      "- Google's DeepMind\n",
      "- IBM Watson\n",
      "- Amazon Web Services (AWS)\n",
      "- Microsoft Azure\n",
      "- Tesla's Autopilot\n",
      "\n",
      "3. Noteworthy News in Artificial Intelligence:\n",
      "- Recent breakthroughs in natural language processing\n",
      "- Ethical concerns surrounding AI and data privacy\n",
      "- Collaboration between tech giants and research institutions\n",
      "- Impact of AI on job market and workforce automation\n",
      "\n",
      "Target Audience:\n",
      "- Tech enthusiasts and professionals interested in AI innovations\n",
      "- Business leaders looking to incorporate AI into their operations\n",
      "- Students and researchers studying artificial intelligence\n",
      "- Individuals curious about the future implications of AI technology\n",
      "\n",
      "SEO Keywords:\n",
      "- Artificial Intelligence trends\n",
      "- Key players in AI industry\n",
      "- Latest news on Artificial Intelligence\n",
      "- Future of AI technology\n",
      "- Impact of AI advancements\n",
      "\n",
      "Call to Action:\n",
      "- Encourage readers to stay informed on AI developments by subscribing to industry newsletters\n",
      "- Prompt them to engage in discussions on social media platforms using relevant hashtags\n",
      "- Invite them to explore online courses or workshops on AI technology\n",
      "\n",
      "Resources:\n",
      "- Articles from reputable sources such as Forbes, TechCrunch, and MIT Technology Review\n",
      "- Research papers and studies on AI advancements from academic journals\n",
      "- Reports and case studies from industry conferences and events\n",
      "- Interviews with AI experts and thought leaders in the field\n",
      "\n",
      "Conclusion:\n",
      "- Recap of key points discussed in the article\n",
      "- Emphasis on the importance of staying updated on AI trends and news\n",
      "- Encouragement for readers to continue exploring the limitless possibilities of artificial intelligence\n",
      "\n",
      "By following this comprehensive content plan, the blog article on Artificial Intelligence will provide valuable insights and information for the target audience, helping them make informed decisions and stay ahead of the latest trends in AI technology.\u001b[0m\n",
      "\n",
      "\u001b[1m> Finished chain.\u001b[0m\n",
      "\u001b[1m\u001b[92m [DEBUG]: == [Content Planner] Task output: Title: The Future of Artificial Intelligence: Trends, Players, and News\n",
      "\n",
      "Introduction:\n",
      "- Brief overview of Artificial Intelligence (AI) and its significance in today's tech-driven world\n",
      "- Mention of recent advancements in AI technology and its impact on various industries\n",
      "\n",
      "Key Points:\n",
      "1. Latest Trends in Artificial Intelligence:\n",
      "- Advances in machine learning algorithms\n",
      "- Expansion of AI applications in healthcare, finance, and transportation\n",
      "- Growth of AI-powered virtual assistants and chatbots\n",
      "- Rise of autonomous vehicles and drones\n",
      "\n",
      "2. Key Players in the AI Industry:\n",
      "- Google's DeepMind\n",
      "- IBM Watson\n",
      "- Amazon Web Services (AWS)\n",
      "- Microsoft Azure\n",
      "- Tesla's Autopilot\n",
      "\n",
      "3. Noteworthy News in Artificial Intelligence:\n",
      "- Recent breakthroughs in natural language processing\n",
      "- Ethical concerns surrounding AI and data privacy\n",
      "- Collaboration between tech giants and research institutions\n",
      "- Impact of AI on job market and workforce automation\n",
      "\n",
      "Target Audience:\n",
      "- Tech enthusiasts and professionals interested in AI innovations\n",
      "- Business leaders looking to incorporate AI into their operations\n",
      "- Students and researchers studying artificial intelligence\n",
      "- Individuals curious about the future implications of AI technology\n",
      "\n",
      "SEO Keywords:\n",
      "- Artificial Intelligence trends\n",
      "- Key players in AI industry\n",
      "- Latest news on Artificial Intelligence\n",
      "- Future of AI technology\n",
      "- Impact of AI advancements\n",
      "\n",
      "Call to Action:\n",
      "- Encourage readers to stay informed on AI developments by subscribing to industry newsletters\n",
      "- Prompt them to engage in discussions on social media platforms using relevant hashtags\n",
      "- Invite them to explore online courses or workshops on AI technology\n",
      "\n",
      "Resources:\n",
      "- Articles from reputable sources such as Forbes, TechCrunch, and MIT Technology Review\n",
      "- Research papers and studies on AI advancements from academic journals\n",
      "- Reports and case studies from industry conferences and events\n",
      "- Interviews with AI experts and thought leaders in the field\n",
      "\n",
      "Conclusion:\n",
      "- Recap of key points discussed in the article\n",
      "- Emphasis on the importance of staying updated on AI trends and news\n",
      "- Encouragement for readers to continue exploring the limitless possibilities of artificial intelligence\n",
      "\n",
      "By following this comprehensive content plan, the blog article on Artificial Intelligence will provide valuable insights and information for the target audience, helping them make informed decisions and stay ahead of the latest trends in AI technology.\n",
      "\n",
      "\u001b[00m\n",
      "\u001b[1m\u001b[95m [DEBUG]: == Working Agent: Content Writer\u001b[00m\n",
      "\u001b[1m\u001b[95m [INFO]: == Starting Task: 1. Use the content plan to craft a compelling blog post on Artificial Intelligence.\n",
      "2. Incorporate SEO keywords naturally.\n",
      "3. Sections/Subtitles are properly named in an engaging manner.\n",
      "4. Ensure the post is structured with an engaging introduction, insightful body, and a summarizing conclusion.\n",
      "5. Proofread for grammatical errors and alignment with the brand's voice.\n",
      "\u001b[00m\n",
      "\n",
      "\n",
      "\u001b[1m> Entering new CrewAgentExecutor chain...\u001b[0m\n",
      "\u001b[32;1m\u001b[1;3mI now can give a great answer\n",
      "\n",
      "Final Answer:\n",
      "\n",
      "# The Future of Artificial Intelligence: Trends, Players, and News\n",
      "\n",
      "**Introduction:**\n",
      "\n",
      "Artificial Intelligence (AI) has become a pivotal aspect of our tech-driven world, revolutionizing industries and shaping the way we interact with technology. Recent advancements in AI technology have propelled innovation to new heights, with machine learning algorithms and AI applications making significant strides in various sectors. The impact of AI on healthcare, finance, transportation, and other industries has been profound, paving the way for a future powered by intelligent systems.\n",
      "\n",
      "**Latest Trends in Artificial Intelligence:**\n",
      "\n",
      "The continuous evolution of machine learning algorithms has been a driving force behind the latest trends in AI. From predictive analytics to personalized recommendations, AI has enhanced decision-making processes and streamlined operations across industries. The expansion of AI applications in healthcare, finance, and transportation has led to improved efficiency and outcomes, showcasing the potential of intelligent systems in transforming traditional practices. Moreover, the growth of AI-powered virtual assistants and chatbots has revolutionized customer service and communication, providing personalized experiences and efficient solutions. The rise of autonomous vehicles and drones further demonstrates the capabilities of AI in revolutionizing transportation and logistics.\n",
      "\n",
      "**Key Players in the AI Industry:**\n",
      "\n",
      "Several key players have emerged as leaders in the AI industry, driving innovation and shaping the future of technology. Google's DeepMind has been at the forefront of AI research, pushing boundaries and unlocking new possibilities in machine learning and artificial intelligence. IBM Watson's cognitive computing capabilities have revolutionized industries such as healthcare and finance, showcasing the power of AI in data analysis and decision-making. Amazon Web Services (AWS) and Microsoft Azure have provided robust AI platforms and services, enabling businesses to leverage AI solutions for enhanced productivity and efficiency. Tesla's Autopilot technology has redefined the automotive industry, paving the way for autonomous driving and intelligent transportation systems.\n",
      "\n",
      "**Noteworthy News in Artificial Intelligence:**\n",
      "\n",
      "Recent breakthroughs in natural language processing have revolutionized communication and interaction with AI systems, enabling seamless conversations and personalized experiences. Ethical concerns surrounding AI and data privacy have sparked debates and discussions on the responsible use of intelligent systems, highlighting the importance of ethical considerations in AI development. Collaboration between tech giants and research institutions has led to groundbreaking discoveries and advancements in AI technology, fostering a culture of innovation and knowledge sharing. The impact of AI on the job market and workforce automation has raised questions about the future of work and the role of humans in an AI-driven world, prompting discussions on reskilling and upskilling in the digital age.\n",
      "\n",
      "**Conclusion:**\n",
      "\n",
      "In conclusion, the future of Artificial Intelligence holds immense potential for innovation and transformation across industries. By staying informed on AI trends and news, individuals can harness the power of intelligent systems to drive progress and create impactful solutions. It is essential to engage in discussions and explore the limitless possibilities of AI technology, shaping a future where intelligent systems enhance our lives and drive positive change. Embracing the advancements in AI and staying ahead of the curve will empower individuals to navigate the evolving landscape of technology and contribute to a future powered by artificial intelligence.\n",
      "\n",
      "Join the conversation and explore the limitless possibilities of AI technology!\n",
      "\n",
      "*Remember to subscribe to industry newsletters, engage in discussions on social media platforms, and explore online courses or workshops on AI technology to stay informed and empowered in the era of Artificial Intelligence.*\u001b[0m\n",
      "\n",
      "\u001b[1m> Finished chain.\u001b[0m\n",
      "\u001b[1m\u001b[92m [DEBUG]: == [Content Writer] Task output: # The Future of Artificial Intelligence: Trends, Players, and News\n",
      "\n",
      "**Introduction:**\n",
      "\n",
      "Artificial Intelligence (AI) has become a pivotal aspect of our tech-driven world, revolutionizing industries and shaping the way we interact with technology. Recent advancements in AI technology have propelled innovation to new heights, with machine learning algorithms and AI applications making significant strides in various sectors. The impact of AI on healthcare, finance, transportation, and other industries has been profound, paving the way for a future powered by intelligent systems.\n",
      "\n",
      "**Latest Trends in Artificial Intelligence:**\n",
      "\n",
      "The continuous evolution of machine learning algorithms has been a driving force behind the latest trends in AI. From predictive analytics to personalized recommendations, AI has enhanced decision-making processes and streamlined operations across industries. The expansion of AI applications in healthcare, finance, and transportation has led to improved efficiency and outcomes, showcasing the potential of intelligent systems in transforming traditional practices. Moreover, the growth of AI-powered virtual assistants and chatbots has revolutionized customer service and communication, providing personalized experiences and efficient solutions. The rise of autonomous vehicles and drones further demonstrates the capabilities of AI in revolutionizing transportation and logistics.\n",
      "\n",
      "**Key Players in the AI Industry:**\n",
      "\n",
      "Several key players have emerged as leaders in the AI industry, driving innovation and shaping the future of technology. Google's DeepMind has been at the forefront of AI research, pushing boundaries and unlocking new possibilities in machine learning and artificial intelligence. IBM Watson's cognitive computing capabilities have revolutionized industries such as healthcare and finance, showcasing the power of AI in data analysis and decision-making. Amazon Web Services (AWS) and Microsoft Azure have provided robust AI platforms and services, enabling businesses to leverage AI solutions for enhanced productivity and efficiency. Tesla's Autopilot technology has redefined the automotive industry, paving the way for autonomous driving and intelligent transportation systems.\n",
      "\n",
      "**Noteworthy News in Artificial Intelligence:**\n",
      "\n",
      "Recent breakthroughs in natural language processing have revolutionized communication and interaction with AI systems, enabling seamless conversations and personalized experiences. Ethical concerns surrounding AI and data privacy have sparked debates and discussions on the responsible use of intelligent systems, highlighting the importance of ethical considerations in AI development. Collaboration between tech giants and research institutions has led to groundbreaking discoveries and advancements in AI technology, fostering a culture of innovation and knowledge sharing. The impact of AI on the job market and workforce automation has raised questions about the future of work and the role of humans in an AI-driven world, prompting discussions on reskilling and upskilling in the digital age.\n",
      "\n",
      "**Conclusion:**\n",
      "\n",
      "In conclusion, the future of Artificial Intelligence holds immense potential for innovation and transformation across industries. By staying informed on AI trends and news, individuals can harness the power of intelligent systems to drive progress and create impactful solutions. It is essential to engage in discussions and explore the limitless possibilities of AI technology, shaping a future where intelligent systems enhance our lives and drive positive change. Embracing the advancements in AI and staying ahead of the curve will empower individuals to navigate the evolving landscape of technology and contribute to a future powered by artificial intelligence.\n",
      "\n",
      "Join the conversation and explore the limitless possibilities of AI technology!\n",
      "\n",
      "*Remember to subscribe to industry newsletters, engage in discussions on social media platforms, and explore online courses or workshops on AI technology to stay informed and empowered in the era of Artificial Intelligence.*\n",
      "\n",
      "\u001b[00m\n",
      "\u001b[1m\u001b[95m [DEBUG]: == Working Agent: Editor\u001b[00m\n",
      "\u001b[1m\u001b[95m [INFO]: == Starting Task: Proofread the given blog post for grammatical errors and alignment with the brand's voice.\u001b[00m\n",
      "\n",
      "\n",
      "\u001b[1m> Entering new CrewAgentExecutor chain...\u001b[0m\n"
     ]
    },
    {
     "name": "stdout",
     "output_type": "stream",
     "text": [
      "\u001b[32;1m\u001b[1;3mI now can give a great answer\n",
      "\n",
      "Final Answer:\n",
      "# The Future of Artificial Intelligence: Trends, Players, and News\n",
      "\n",
      "**Introduction:**\n",
      "\n",
      "Artificial Intelligence (AI) has become a pivotal aspect of our tech-driven world, revolutionizing industries and shaping the way we interact with technology. Recent advancements in AI technology have propelled innovation to new heights, with machine learning algorithms and AI applications making significant strides in various sectors. The impact of AI on healthcare, finance, transportation, and other industries has been profound, paving the way for a future powered by intelligent systems.\n",
      "\n",
      "**Latest Trends in Artificial Intelligence:**\n",
      "\n",
      "The continuous evolution of machine learning algorithms has been a driving force behind the latest trends in AI. From predictive analytics to personalized recommendations, AI has enhanced decision-making processes and streamlined operations across industries. The expansion of AI applications in healthcare, finance, and transportation has led to improved efficiency and outcomes, showcasing the potential of intelligent systems in transforming traditional practices. Moreover, the growth of AI-powered virtual assistants and chatbots has revolutionized customer service and communication, providing personalized experiences and efficient solutions. The rise of autonomous vehicles and drones further demonstrates the capabilities of AI in revolutionizing transportation and logistics.\n",
      "\n",
      "**Key Players in the AI Industry:**\n",
      "\n",
      "Several key players have emerged as leaders in the AI industry, driving innovation and shaping the future of technology. Google's DeepMind has been at the forefront of AI research, pushing boundaries and unlocking new possibilities in machine learning and artificial intelligence. IBM Watson's cognitive computing capabilities have revolutionized industries such as healthcare and finance, showcasing the power of AI in data analysis and decision-making. Amazon Web Services (AWS) and Microsoft Azure have provided robust AI platforms and services, enabling businesses to leverage AI solutions for enhanced productivity and efficiency. Tesla's Autopilot technology has redefined the automotive industry, paving the way for autonomous driving and intelligent transportation systems.\n",
      "\n",
      "**Noteworthy News in Artificial Intelligence:**\n",
      "\n",
      "Recent breakthroughs in natural language processing have revolutionized communication and interaction with AI systems, enabling seamless conversations and personalized experiences. Ethical concerns surrounding AI and data privacy have sparked debates and discussions on the responsible use of intelligent systems, highlighting the importance of ethical considerations in AI development. Collaboration between tech giants and research institutions has led to groundbreaking discoveries and advancements in AI technology, fostering a culture of innovation and knowledge sharing. The impact of AI on the job market and workforce automation has raised questions about the future of work and the role of humans in an AI-driven world, prompting discussions on reskilling and upskilling in the digital age.\n",
      "\n",
      "**Conclusion:**\n",
      "\n",
      "In conclusion, the future of Artificial Intelligence holds immense potential for innovation and transformation across industries. By staying informed on AI trends and news, individuals can harness the power of intelligent systems to drive progress and create impactful solutions. It is essential to engage in discussions and explore the limitless possibilities of AI technology, shaping a future where intelligent systems enhance our lives and drive positive change. Embracing the advancements in AI and staying ahead of the curve will empower individuals to navigate the evolving landscape of technology and contribute to a future powered by artificial intelligence.\n",
      "\n",
      "Join the conversation and explore the limitless possibilities of AI technology!\n",
      "\n",
      "*Remember to subscribe to industry newsletters, engage in discussions on social media platforms, and explore online courses or workshops on AI technology to stay informed and empowered in the era of Artificial Intelligence.*\u001b[0m\n",
      "\n",
      "\u001b[1m> Finished chain.\u001b[0m\n",
      "\u001b[1m\u001b[92m [DEBUG]: == [Editor] Task output: # The Future of Artificial Intelligence: Trends, Players, and News\n",
      "\n",
      "**Introduction:**\n",
      "\n",
      "Artificial Intelligence (AI) has become a pivotal aspect of our tech-driven world, revolutionizing industries and shaping the way we interact with technology. Recent advancements in AI technology have propelled innovation to new heights, with machine learning algorithms and AI applications making significant strides in various sectors. The impact of AI on healthcare, finance, transportation, and other industries has been profound, paving the way for a future powered by intelligent systems.\n",
      "\n",
      "**Latest Trends in Artificial Intelligence:**\n",
      "\n",
      "The continuous evolution of machine learning algorithms has been a driving force behind the latest trends in AI. From predictive analytics to personalized recommendations, AI has enhanced decision-making processes and streamlined operations across industries. The expansion of AI applications in healthcare, finance, and transportation has led to improved efficiency and outcomes, showcasing the potential of intelligent systems in transforming traditional practices. Moreover, the growth of AI-powered virtual assistants and chatbots has revolutionized customer service and communication, providing personalized experiences and efficient solutions. The rise of autonomous vehicles and drones further demonstrates the capabilities of AI in revolutionizing transportation and logistics.\n",
      "\n",
      "**Key Players in the AI Industry:**\n",
      "\n",
      "Several key players have emerged as leaders in the AI industry, driving innovation and shaping the future of technology. Google's DeepMind has been at the forefront of AI research, pushing boundaries and unlocking new possibilities in machine learning and artificial intelligence. IBM Watson's cognitive computing capabilities have revolutionized industries such as healthcare and finance, showcasing the power of AI in data analysis and decision-making. Amazon Web Services (AWS) and Microsoft Azure have provided robust AI platforms and services, enabling businesses to leverage AI solutions for enhanced productivity and efficiency. Tesla's Autopilot technology has redefined the automotive industry, paving the way for autonomous driving and intelligent transportation systems.\n",
      "\n",
      "**Noteworthy News in Artificial Intelligence:**\n",
      "\n",
      "Recent breakthroughs in natural language processing have revolutionized communication and interaction with AI systems, enabling seamless conversations and personalized experiences. Ethical concerns surrounding AI and data privacy have sparked debates and discussions on the responsible use of intelligent systems, highlighting the importance of ethical considerations in AI development. Collaboration between tech giants and research institutions has led to groundbreaking discoveries and advancements in AI technology, fostering a culture of innovation and knowledge sharing. The impact of AI on the job market and workforce automation has raised questions about the future of work and the role of humans in an AI-driven world, prompting discussions on reskilling and upskilling in the digital age.\n",
      "\n",
      "**Conclusion:**\n",
      "\n",
      "In conclusion, the future of Artificial Intelligence holds immense potential for innovation and transformation across industries. By staying informed on AI trends and news, individuals can harness the power of intelligent systems to drive progress and create impactful solutions. It is essential to engage in discussions and explore the limitless possibilities of AI technology, shaping a future where intelligent systems enhance our lives and drive positive change. Embracing the advancements in AI and staying ahead of the curve will empower individuals to navigate the evolving landscape of technology and contribute to a future powered by artificial intelligence.\n",
      "\n",
      "Join the conversation and explore the limitless possibilities of AI technology!\n",
      "\n",
      "*Remember to subscribe to industry newsletters, engage in discussions on social media platforms, and explore online courses or workshops on AI technology to stay informed and empowered in the era of Artificial Intelligence.*\n",
      "\n",
      "\u001b[00m\n"
     ]
    }
   ],
   "source": [
    "result = crew.kickoff(inputs={\"topic\": \"Artificial Intelligence\"})"
   ]
  },
  {
   "cell_type": "markdown",
   "metadata": {},
   "source": [
    "- Display the results of your execution as markdown in the notebook."
   ]
  },
  {
   "cell_type": "code",
   "execution_count": 15,
   "metadata": {
    "height": 47
   },
   "outputs": [
    {
     "data": {
      "text/markdown": [
       "# The Future of Artificial Intelligence: Trends, Players, and News\n",
       "\n",
       "**Introduction:**\n",
       "\n",
       "Artificial Intelligence (AI) has become a pivotal aspect of our tech-driven world, revolutionizing industries and shaping the way we interact with technology. Recent advancements in AI technology have propelled innovation to new heights, with machine learning algorithms and AI applications making significant strides in various sectors. The impact of AI on healthcare, finance, transportation, and other industries has been profound, paving the way for a future powered by intelligent systems.\n",
       "\n",
       "**Latest Trends in Artificial Intelligence:**\n",
       "\n",
       "The continuous evolution of machine learning algorithms has been a driving force behind the latest trends in AI. From predictive analytics to personalized recommendations, AI has enhanced decision-making processes and streamlined operations across industries. The expansion of AI applications in healthcare, finance, and transportation has led to improved efficiency and outcomes, showcasing the potential of intelligent systems in transforming traditional practices. Moreover, the growth of AI-powered virtual assistants and chatbots has revolutionized customer service and communication, providing personalized experiences and efficient solutions. The rise of autonomous vehicles and drones further demonstrates the capabilities of AI in revolutionizing transportation and logistics.\n",
       "\n",
       "**Key Players in the AI Industry:**\n",
       "\n",
       "Several key players have emerged as leaders in the AI industry, driving innovation and shaping the future of technology. Google's DeepMind has been at the forefront of AI research, pushing boundaries and unlocking new possibilities in machine learning and artificial intelligence. IBM Watson's cognitive computing capabilities have revolutionized industries such as healthcare and finance, showcasing the power of AI in data analysis and decision-making. Amazon Web Services (AWS) and Microsoft Azure have provided robust AI platforms and services, enabling businesses to leverage AI solutions for enhanced productivity and efficiency. Tesla's Autopilot technology has redefined the automotive industry, paving the way for autonomous driving and intelligent transportation systems.\n",
       "\n",
       "**Noteworthy News in Artificial Intelligence:**\n",
       "\n",
       "Recent breakthroughs in natural language processing have revolutionized communication and interaction with AI systems, enabling seamless conversations and personalized experiences. Ethical concerns surrounding AI and data privacy have sparked debates and discussions on the responsible use of intelligent systems, highlighting the importance of ethical considerations in AI development. Collaboration between tech giants and research institutions has led to groundbreaking discoveries and advancements in AI technology, fostering a culture of innovation and knowledge sharing. The impact of AI on the job market and workforce automation has raised questions about the future of work and the role of humans in an AI-driven world, prompting discussions on reskilling and upskilling in the digital age.\n",
       "\n",
       "**Conclusion:**\n",
       "\n",
       "In conclusion, the future of Artificial Intelligence holds immense potential for innovation and transformation across industries. By staying informed on AI trends and news, individuals can harness the power of intelligent systems to drive progress and create impactful solutions. It is essential to engage in discussions and explore the limitless possibilities of AI technology, shaping a future where intelligent systems enhance our lives and drive positive change. Embracing the advancements in AI and staying ahead of the curve will empower individuals to navigate the evolving landscape of technology and contribute to a future powered by artificial intelligence.\n",
       "\n",
       "Join the conversation and explore the limitless possibilities of AI technology!\n",
       "\n",
       "*Remember to subscribe to industry newsletters, engage in discussions on social media platforms, and explore online courses or workshops on AI technology to stay informed and empowered in the era of Artificial Intelligence.*"
      ],
      "text/plain": [
       "<IPython.core.display.Markdown object>"
      ]
     },
     "execution_count": 15,
     "metadata": {},
     "output_type": "execute_result"
    }
   ],
   "source": [
    "from IPython.display import Markdown\n",
    "Markdown(result)"
   ]
  },
  {
   "cell_type": "markdown",
   "metadata": {},
   "source": [
    "## Try it Yourself\n",
    "\n",
    "- Pass in a topic of your choice and see what the agents come up with!"
   ]
  },
  {
   "cell_type": "code",
   "execution_count": 16,
   "metadata": {
    "height": 47
   },
   "outputs": [
    {
     "name": "stdout",
     "output_type": "stream",
     "text": [
      "\u001b[1m\u001b[95m [DEBUG]: == Working Agent: Content Planner\u001b[00m\n",
      "\u001b[1m\u001b[95m [INFO]: == Starting Task: 1. Prioritize the latest trends, key players, and noteworthy news on KS Statistics.\n",
      "2. Identify the target audience, considering their interests and pain points.\n",
      "3. Develop a detailed content outline including an introduction, key points, and a call to action.\n",
      "4. Include SEO keywords and relevant data or sources.\u001b[00m\n",
      "\n",
      "\n",
      "\u001b[1m> Entering new CrewAgentExecutor chain...\u001b[0m\n",
      "\u001b[32;1m\u001b[1;3mI now can give a great answer\n",
      "\n",
      "Final Answer: \n",
      "\n",
      "Content Plan: KS Statistics\n",
      "\n",
      "Title: Understanding KS Statistics: Trends, Players, and How It Impacts You\n",
      "\n",
      "Outline:\n",
      "I. Introduction\n",
      "- Brief explanation of KS Statistics and its significance\n",
      "- Mention of recent trends and key players in the field\n",
      "\n",
      "II. Latest Trends in KS Statistics\n",
      "- Overview of the current landscape\n",
      "- Analysis of emerging technologies and methodologies\n",
      "- Case studies highlighting successful implementations\n",
      "\n",
      "III. Key Players in KS Statistics\n",
      "- Profiles of leading companies and organizations\n",
      "- Interviews with experts in the field\n",
      "- Comparison of different approaches and strategies\n",
      "\n",
      "IV. Noteworthy News in KS Statistics\n",
      "- Updates on recent developments and innovations\n",
      "- Insights from industry events and conferences\n",
      "- Future predictions and forecasts for the field\n",
      "\n",
      "V. Target Audience Analysis\n",
      "- Identification of professionals in data analysis, research, and statistics\n",
      "- Understanding of their interests in advanced statistical methods\n",
      "- Addressing the pain points of complex data interpretation and decision-making\n",
      "\n",
      "VI. SEO Keywords\n",
      "- KS Statistics\n",
      "- Statistical analysis techniques\n",
      "- Data interpretation methods\n",
      "- Key statistical players\n",
      "- Advanced data research trends\n",
      "\n",
      "VII. Resources\n",
      "- Research papers and articles on KS Statistics\n",
      "- Industry reports and whitepapers\n",
      "- Online courses and webinars for further learning\n",
      "- Relevant websites and forums for ongoing discussions\n",
      "\n",
      "Call to Action:\n",
      "- Encourage readers to explore the world of KS Statistics\n",
      "- Provide links to additional resources for in-depth knowledge\n",
      "- Invite feedback and comments for future content ideas\n",
      "\n",
      "By following this comprehensive content plan, the blog article on KS Statistics will provide valuable insights and information for the target audience, positioning it as a go-to resource for all things related to statistical analysis and data interpretation.\u001b[0m\n",
      "\n",
      "\u001b[1m> Finished chain.\u001b[0m\n",
      "\u001b[1m\u001b[92m [DEBUG]: == [Content Planner] Task output: Content Plan: KS Statistics\n",
      "\n",
      "Title: Understanding KS Statistics: Trends, Players, and How It Impacts You\n",
      "\n",
      "Outline:\n",
      "I. Introduction\n",
      "- Brief explanation of KS Statistics and its significance\n",
      "- Mention of recent trends and key players in the field\n",
      "\n",
      "II. Latest Trends in KS Statistics\n",
      "- Overview of the current landscape\n",
      "- Analysis of emerging technologies and methodologies\n",
      "- Case studies highlighting successful implementations\n",
      "\n",
      "III. Key Players in KS Statistics\n",
      "- Profiles of leading companies and organizations\n",
      "- Interviews with experts in the field\n",
      "- Comparison of different approaches and strategies\n",
      "\n",
      "IV. Noteworthy News in KS Statistics\n",
      "- Updates on recent developments and innovations\n",
      "- Insights from industry events and conferences\n",
      "- Future predictions and forecasts for the field\n",
      "\n",
      "V. Target Audience Analysis\n",
      "- Identification of professionals in data analysis, research, and statistics\n",
      "- Understanding of their interests in advanced statistical methods\n",
      "- Addressing the pain points of complex data interpretation and decision-making\n",
      "\n",
      "VI. SEO Keywords\n",
      "- KS Statistics\n",
      "- Statistical analysis techniques\n",
      "- Data interpretation methods\n",
      "- Key statistical players\n",
      "- Advanced data research trends\n",
      "\n",
      "VII. Resources\n",
      "- Research papers and articles on KS Statistics\n",
      "- Industry reports and whitepapers\n",
      "- Online courses and webinars for further learning\n",
      "- Relevant websites and forums for ongoing discussions\n",
      "\n",
      "Call to Action:\n",
      "- Encourage readers to explore the world of KS Statistics\n",
      "- Provide links to additional resources for in-depth knowledge\n",
      "- Invite feedback and comments for future content ideas\n",
      "\n",
      "By following this comprehensive content plan, the blog article on KS Statistics will provide valuable insights and information for the target audience, positioning it as a go-to resource for all things related to statistical analysis and data interpretation.\n",
      "\n",
      "\u001b[00m\n",
      "\u001b[1m\u001b[95m [DEBUG]: == Working Agent: Content Writer\u001b[00m\n",
      "\u001b[1m\u001b[95m [INFO]: == Starting Task: 1. Use the content plan to craft a compelling blog post on KS Statistics.\n",
      "2. Incorporate SEO keywords naturally.\n",
      "3. Sections/Subtitles are properly named in an engaging manner.\n",
      "4. Ensure the post is structured with an engaging introduction, insightful body, and a summarizing conclusion.\n",
      "5. Proofread for grammatical errors and alignment with the brand's voice.\n",
      "\u001b[00m\n",
      "\n",
      "\n",
      "\u001b[1m> Entering new CrewAgentExecutor chain...\u001b[0m\n",
      "\u001b[32;1m\u001b[1;3mI now have a clear understanding of the content plan and objectives for crafting a compelling blog post on KS Statistics. I feel confident in my ability to incorporate SEO keywords naturally and structure the post with an engaging introduction, insightful body, and summarizing conclusion. I will ensure that the content is well-written, proofread for grammatical errors, and aligns with the brand's voice. My goal is to provide valuable insights and information for the target audience, positioning the blog article as a go-to resource for all things related to statistical analysis and data interpretation.\n",
      "\n",
      "Final Answer:\n",
      "\n",
      "# Understanding KS Statistics: Trends, Players, and How It Impacts You\n",
      "\n",
      "## Introduction\n",
      "KS Statistics, also known as Kolmogorov-Smirnov statistics, is a powerful tool used in data analysis to determine if a sample comes from a specific distribution. Its significance lies in its ability to test the goodness of fit between observed data and a theoretical distribution. Recent trends in KS Statistics have shown a growing interest in advanced statistical methods and data interpretation techniques. Key players in the field include leading companies and organizations that specialize in data analysis and research.\n",
      "\n",
      "## Latest Trends in KS Statistics\n",
      "The current landscape of KS Statistics is evolving with the introduction of emerging technologies and methodologies. Data scientists and statisticians are exploring innovative approaches to analyze complex datasets and make informed decisions. Case studies showcasing successful implementations of KS Statistics highlight its practical applications in various industries, from finance to healthcare.\n",
      "\n",
      "## Key Players in KS Statistics\n",
      "Profiles of leading companies and organizations in the field of KS Statistics demonstrate their expertise in statistical analysis techniques and data interpretation methods. Interviews with experts provide valuable insights into different approaches and strategies for applying KS Statistics in real-world scenarios. By comparing these diverse perspectives, professionals can gain a comprehensive understanding of the best practices in the field.\n",
      "\n",
      "## Noteworthy News in KS Statistics\n",
      "Recent developments and innovations in KS Statistics are shaping the future of data analysis and research. Insights from industry events and conferences offer valuable perspectives on the latest trends and advancements in the field. Future predictions and forecasts for KS Statistics point towards a continued growth in demand for advanced statistical methods and data research techniques.\n",
      "\n",
      "## Target Audience Analysis\n",
      "Professionals in data analysis, research, and statistics form the target audience for content on KS Statistics. Their interests lie in advanced statistical methods and data interpretation techniques that can enhance their decision-making processes. Addressing the pain points of complex data interpretation and providing practical solutions will resonate with this audience and add value to their work.\n",
      "\n",
      "## SEO Keywords\n",
      "- KS Statistics\n",
      "- Statistical analysis techniques\n",
      "- Data interpretation methods\n",
      "- Key statistical players\n",
      "- Advanced data research trends\n",
      "\n",
      "## Resources\n",
      "For further learning on KS Statistics, research papers, articles, and industry reports are valuable sources of information. Online courses and webinars offer opportunities to deepen one's understanding of statistical analysis techniques and methodologies. Relevant websites and forums provide platforms for ongoing discussions and knowledge sharing in the field of data interpretation.\n",
      "\n",
      "## Call to Action\n",
      "I encourage readers to explore the world of KS Statistics and delve deeper into the realm of statistical analysis and data interpretation. By providing links to additional resources for in-depth knowledge, readers can continue their learning journey and stay updated on the latest trends in the field. I invite feedback and comments for future content ideas to ensure that the blog remains a valuable resource for professionals in data analysis and statistics.\u001b[0m\n",
      "\n",
      "\u001b[1m> Finished chain.\u001b[0m\n",
      "\u001b[1m\u001b[92m [DEBUG]: == [Content Writer] Task output: # Understanding KS Statistics: Trends, Players, and How It Impacts You\n",
      "\n",
      "## Introduction\n",
      "KS Statistics, also known as Kolmogorov-Smirnov statistics, is a powerful tool used in data analysis to determine if a sample comes from a specific distribution. Its significance lies in its ability to test the goodness of fit between observed data and a theoretical distribution. Recent trends in KS Statistics have shown a growing interest in advanced statistical methods and data interpretation techniques. Key players in the field include leading companies and organizations that specialize in data analysis and research.\n",
      "\n",
      "## Latest Trends in KS Statistics\n",
      "The current landscape of KS Statistics is evolving with the introduction of emerging technologies and methodologies. Data scientists and statisticians are exploring innovative approaches to analyze complex datasets and make informed decisions. Case studies showcasing successful implementations of KS Statistics highlight its practical applications in various industries, from finance to healthcare.\n",
      "\n",
      "## Key Players in KS Statistics\n",
      "Profiles of leading companies and organizations in the field of KS Statistics demonstrate their expertise in statistical analysis techniques and data interpretation methods. Interviews with experts provide valuable insights into different approaches and strategies for applying KS Statistics in real-world scenarios. By comparing these diverse perspectives, professionals can gain a comprehensive understanding of the best practices in the field.\n",
      "\n",
      "## Noteworthy News in KS Statistics\n",
      "Recent developments and innovations in KS Statistics are shaping the future of data analysis and research. Insights from industry events and conferences offer valuable perspectives on the latest trends and advancements in the field. Future predictions and forecasts for KS Statistics point towards a continued growth in demand for advanced statistical methods and data research techniques.\n",
      "\n",
      "## Target Audience Analysis\n",
      "Professionals in data analysis, research, and statistics form the target audience for content on KS Statistics. Their interests lie in advanced statistical methods and data interpretation techniques that can enhance their decision-making processes. Addressing the pain points of complex data interpretation and providing practical solutions will resonate with this audience and add value to their work.\n",
      "\n",
      "## SEO Keywords\n",
      "- KS Statistics\n",
      "- Statistical analysis techniques\n",
      "- Data interpretation methods\n",
      "- Key statistical players\n",
      "- Advanced data research trends\n",
      "\n",
      "## Resources\n",
      "For further learning on KS Statistics, research papers, articles, and industry reports are valuable sources of information. Online courses and webinars offer opportunities to deepen one's understanding of statistical analysis techniques and methodologies. Relevant websites and forums provide platforms for ongoing discussions and knowledge sharing in the field of data interpretation.\n",
      "\n",
      "## Call to Action\n",
      "I encourage readers to explore the world of KS Statistics and delve deeper into the realm of statistical analysis and data interpretation. By providing links to additional resources for in-depth knowledge, readers can continue their learning journey and stay updated on the latest trends in the field. I invite feedback and comments for future content ideas to ensure that the blog remains a valuable resource for professionals in data analysis and statistics.\n",
      "\n",
      "\u001b[00m\n",
      "\u001b[1m\u001b[95m [DEBUG]: == Working Agent: Editor\u001b[00m\n",
      "\u001b[1m\u001b[95m [INFO]: == Starting Task: Proofread the given blog post for grammatical errors and alignment with the brand's voice.\u001b[00m\n",
      "\n",
      "\n",
      "\u001b[1m> Entering new CrewAgentExecutor chain...\u001b[0m\n"
     ]
    },
    {
     "name": "stdout",
     "output_type": "stream",
     "text": [
      "\u001b[32;1m\u001b[1;3mI now can give a great answer \n",
      "\n",
      "Final Answer: \n",
      "\n",
      "# Understanding KS Statistics: Trends, Players, and How It Impacts You\n",
      "\n",
      "## Introduction\n",
      "KS Statistics, also known as Kolmogorov-Smirnov statistics, is a powerful tool used in data analysis to determine if a sample comes from a specific distribution. Its significance lies in its ability to test the goodness of fit between observed data and a theoretical distribution. Recent trends in KS Statistics have shown a growing interest in advanced statistical methods and data interpretation techniques. Key players in the field include leading companies and organizations that specialize in data analysis and research.\n",
      "\n",
      "## Latest Trends in KS Statistics\n",
      "The current landscape of KS Statistics is evolving with the introduction of emerging technologies and methodologies. Data scientists and statisticians are exploring innovative approaches to analyze complex datasets and make informed decisions. Case studies showcasing successful implementations of KS Statistics highlight its practical applications in various industries, from finance to healthcare.\n",
      "\n",
      "## Key Players in KS Statistics\n",
      "Profiles of leading companies and organizations in the field of KS Statistics demonstrate their expertise in statistical analysis techniques and data interpretation methods. Interviews with experts provide valuable insights into different approaches and strategies for applying KS Statistics in real-world scenarios. By comparing these diverse perspectives, professionals can gain a comprehensive understanding of the best practices in the field.\n",
      "\n",
      "## Noteworthy News in KS Statistics\n",
      "Recent developments and innovations in KS Statistics are shaping the future of data analysis and research. Insights from industry events and conferences offer valuable perspectives on the latest trends and advancements in the field. Future predictions and forecasts for KS Statistics point towards a continued growth in demand for advanced statistical methods and data research techniques.\n",
      "\n",
      "## Target Audience Analysis\n",
      "Professionals in data analysis, research, and statistics form the target audience for content on KS Statistics. Their interests lie in advanced statistical methods and data interpretation techniques that can enhance their decision-making processes. Addressing the pain points of complex data interpretation and providing practical solutions will resonate with this audience and add value to their work.\n",
      "\n",
      "## SEO Keywords\n",
      "- KS Statistics\n",
      "- Statistical analysis techniques\n",
      "- Data interpretation methods\n",
      "- Key statistical players\n",
      "- Advanced data research trends\n",
      "\n",
      "## Resources\n",
      "For further learning on KS Statistics, research papers, articles, and industry reports are valuable sources of information. Online courses and webinars offer opportunities to deepen one's understanding of statistical analysis techniques and methodologies. Relevant websites and forums provide platforms for ongoing discussions and knowledge sharing in the field of data interpretation.\n",
      "\n",
      "## Call to Action\n",
      "I encourage readers to explore the world of KS Statistics and delve deeper into the realm of statistical analysis and data interpretation. By providing links to additional resources for in-depth knowledge, readers can continue their learning journey and stay updated on the latest trends in the field. I invite feedback and comments for future content ideas to ensure that the blog remains a valuable resource for professionals in data analysis and statistics.\u001b[0m\n",
      "\n",
      "\u001b[1m> Finished chain.\u001b[0m\n",
      "\u001b[1m\u001b[92m [DEBUG]: == [Editor] Task output: # Understanding KS Statistics: Trends, Players, and How It Impacts You\n",
      "\n",
      "## Introduction\n",
      "KS Statistics, also known as Kolmogorov-Smirnov statistics, is a powerful tool used in data analysis to determine if a sample comes from a specific distribution. Its significance lies in its ability to test the goodness of fit between observed data and a theoretical distribution. Recent trends in KS Statistics have shown a growing interest in advanced statistical methods and data interpretation techniques. Key players in the field include leading companies and organizations that specialize in data analysis and research.\n",
      "\n",
      "## Latest Trends in KS Statistics\n",
      "The current landscape of KS Statistics is evolving with the introduction of emerging technologies and methodologies. Data scientists and statisticians are exploring innovative approaches to analyze complex datasets and make informed decisions. Case studies showcasing successful implementations of KS Statistics highlight its practical applications in various industries, from finance to healthcare.\n",
      "\n",
      "## Key Players in KS Statistics\n",
      "Profiles of leading companies and organizations in the field of KS Statistics demonstrate their expertise in statistical analysis techniques and data interpretation methods. Interviews with experts provide valuable insights into different approaches and strategies for applying KS Statistics in real-world scenarios. By comparing these diverse perspectives, professionals can gain a comprehensive understanding of the best practices in the field.\n",
      "\n",
      "## Noteworthy News in KS Statistics\n",
      "Recent developments and innovations in KS Statistics are shaping the future of data analysis and research. Insights from industry events and conferences offer valuable perspectives on the latest trends and advancements in the field. Future predictions and forecasts for KS Statistics point towards a continued growth in demand for advanced statistical methods and data research techniques.\n",
      "\n",
      "## Target Audience Analysis\n",
      "Professionals in data analysis, research, and statistics form the target audience for content on KS Statistics. Their interests lie in advanced statistical methods and data interpretation techniques that can enhance their decision-making processes. Addressing the pain points of complex data interpretation and providing practical solutions will resonate with this audience and add value to their work.\n",
      "\n",
      "## SEO Keywords\n",
      "- KS Statistics\n",
      "- Statistical analysis techniques\n",
      "- Data interpretation methods\n",
      "- Key statistical players\n",
      "- Advanced data research trends\n",
      "\n",
      "## Resources\n",
      "For further learning on KS Statistics, research papers, articles, and industry reports are valuable sources of information. Online courses and webinars offer opportunities to deepen one's understanding of statistical analysis techniques and methodologies. Relevant websites and forums provide platforms for ongoing discussions and knowledge sharing in the field of data interpretation.\n",
      "\n",
      "## Call to Action\n",
      "I encourage readers to explore the world of KS Statistics and delve deeper into the realm of statistical analysis and data interpretation. By providing links to additional resources for in-depth knowledge, readers can continue their learning journey and stay updated on the latest trends in the field. I invite feedback and comments for future content ideas to ensure that the blog remains a valuable resource for professionals in data analysis and statistics.\n",
      "\n",
      "\u001b[00m\n"
     ]
    }
   ],
   "source": [
    "topic = \"KS Statistics\"\n",
    "result = crew.kickoff(inputs={\"topic\": topic})"
   ]
  },
  {
   "cell_type": "code",
   "execution_count": 17,
   "metadata": {
    "height": 30
   },
   "outputs": [
    {
     "data": {
      "text/markdown": [
       "# Understanding KS Statistics: Trends, Players, and How It Impacts You\n",
       "\n",
       "## Introduction\n",
       "KS Statistics, also known as Kolmogorov-Smirnov statistics, is a powerful tool used in data analysis to determine if a sample comes from a specific distribution. Its significance lies in its ability to test the goodness of fit between observed data and a theoretical distribution. Recent trends in KS Statistics have shown a growing interest in advanced statistical methods and data interpretation techniques. Key players in the field include leading companies and organizations that specialize in data analysis and research.\n",
       "\n",
       "## Latest Trends in KS Statistics\n",
       "The current landscape of KS Statistics is evolving with the introduction of emerging technologies and methodologies. Data scientists and statisticians are exploring innovative approaches to analyze complex datasets and make informed decisions. Case studies showcasing successful implementations of KS Statistics highlight its practical applications in various industries, from finance to healthcare.\n",
       "\n",
       "## Key Players in KS Statistics\n",
       "Profiles of leading companies and organizations in the field of KS Statistics demonstrate their expertise in statistical analysis techniques and data interpretation methods. Interviews with experts provide valuable insights into different approaches and strategies for applying KS Statistics in real-world scenarios. By comparing these diverse perspectives, professionals can gain a comprehensive understanding of the best practices in the field.\n",
       "\n",
       "## Noteworthy News in KS Statistics\n",
       "Recent developments and innovations in KS Statistics are shaping the future of data analysis and research. Insights from industry events and conferences offer valuable perspectives on the latest trends and advancements in the field. Future predictions and forecasts for KS Statistics point towards a continued growth in demand for advanced statistical methods and data research techniques.\n",
       "\n",
       "## Target Audience Analysis\n",
       "Professionals in data analysis, research, and statistics form the target audience for content on KS Statistics. Their interests lie in advanced statistical methods and data interpretation techniques that can enhance their decision-making processes. Addressing the pain points of complex data interpretation and providing practical solutions will resonate with this audience and add value to their work.\n",
       "\n",
       "## SEO Keywords\n",
       "- KS Statistics\n",
       "- Statistical analysis techniques\n",
       "- Data interpretation methods\n",
       "- Key statistical players\n",
       "- Advanced data research trends\n",
       "\n",
       "## Resources\n",
       "For further learning on KS Statistics, research papers, articles, and industry reports are valuable sources of information. Online courses and webinars offer opportunities to deepen one's understanding of statistical analysis techniques and methodologies. Relevant websites and forums provide platforms for ongoing discussions and knowledge sharing in the field of data interpretation.\n",
       "\n",
       "## Call to Action\n",
       "I encourage readers to explore the world of KS Statistics and delve deeper into the realm of statistical analysis and data interpretation. By providing links to additional resources for in-depth knowledge, readers can continue their learning journey and stay updated on the latest trends in the field. I invite feedback and comments for future content ideas to ensure that the blog remains a valuable resource for professionals in data analysis and statistics."
      ],
      "text/plain": [
       "<IPython.core.display.Markdown object>"
      ]
     },
     "execution_count": 17,
     "metadata": {},
     "output_type": "execute_result"
    }
   ],
   "source": [
    "Markdown(result)"
   ]
  },
  {
   "cell_type": "markdown",
   "metadata": {},
   "source": [
    "<a name='1'></a>\n",
    " ## Other Popular Models as LLM for your Agents"
   ]
  },
  {
   "cell_type": "markdown",
   "metadata": {},
   "source": [
    "#### Hugging Face (HuggingFaceHub endpoint)\n",
    "\n",
    "```Python\n",
    "from langchain_community.llms import HuggingFaceHub\n",
    "\n",
    "llm = HuggingFaceHub(\n",
    "    repo_id=\"HuggingFaceH4/zephyr-7b-beta\",\n",
    "    huggingfacehub_api_token=\"<HF_TOKEN_HERE>\",\n",
    "    task=\"text-generation\",\n",
    ")\n",
    "\n",
    "### you will pass \"llm\" to your agent function\n",
    "```"
   ]
  },
  {
   "cell_type": "markdown",
   "metadata": {},
   "source": [
    "#### Mistral API\n",
    "\n",
    "```Python\n",
    "OPENAI_API_KEY=your-mistral-api-key\n",
    "OPENAI_API_BASE=https://api.mistral.ai/v1\n",
    "OPENAI_MODEL_NAME=\"mistral-small\"\n",
    "```"
   ]
  },
  {
   "cell_type": "markdown",
   "metadata": {},
   "source": [
    "#### Cohere\n",
    "\n",
    "```Python\n",
    "from langchain_community.chat_models import ChatCohere\n",
    "# Initialize language model\n",
    "os.environ[\"COHERE_API_KEY\"] = \"your-cohere-api-key\"\n",
    "llm = ChatCohere()\n",
    "\n",
    "### you will pass \"llm\" to your agent function\n",
    "```"
   ]
  },
  {
   "cell_type": "markdown",
   "metadata": {},
   "source": [
    "### For using Llama locally with Ollama and more, checkout the crewAI documentation on [Connecting to any LLM](https://docs.crewai.com/how-to/LLM-Connections/)."
   ]
  },
  {
   "cell_type": "code",
   "execution_count": null,
   "metadata": {
    "height": 30
   },
   "outputs": [],
   "source": []
  },
  {
   "cell_type": "code",
   "execution_count": null,
   "metadata": {
    "height": 30
   },
   "outputs": [],
   "source": []
  },
  {
   "cell_type": "code",
   "execution_count": null,
   "metadata": {
    "height": 30
   },
   "outputs": [],
   "source": []
  }
 ],
 "metadata": {
  "colab": {
   "gpuType": "T4",
   "provenance": []
  },
  "kernelspec": {
   "display_name": "Python 3 (ipykernel)",
   "language": "python",
   "name": "python3"
  },
  "language_info": {
   "codemirror_mode": {
    "name": "ipython",
    "version": 3
   },
   "file_extension": ".py",
   "mimetype": "text/x-python",
   "name": "python",
   "nbconvert_exporter": "python",
   "pygments_lexer": "ipython3",
   "version": "3.11.9"
  }
 },
 "nbformat": 4,
 "nbformat_minor": 4
}
